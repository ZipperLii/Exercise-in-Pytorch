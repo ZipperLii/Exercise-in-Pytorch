{
 "cells": [
  {
   "cell_type": "markdown",
   "metadata": {},
   "source": [
    "字符串处理"
   ]
  },
  {
   "cell_type": "code",
   "execution_count": 6,
   "metadata": {},
   "outputs": [],
   "source": [
    "input_string=' 今天天气不错，挺风和日丽的AAA'"
   ]
  },
  {
   "cell_type": "markdown",
   "metadata": {},
   "source": [
    "去掉空格或者特殊字符"
   ]
  },
  {
   "cell_type": "code",
   "execution_count": 22,
   "metadata": {},
   "outputs": [
    {
     "name": "stdout",
     "output_type": "stream",
     "text": [
      "原输入:  今天天气不错，挺风和日丽的AAA\n",
      "去掉左边空格后: 今天天气不错，挺风和日丽的AAA\n",
      "去掉右边元素后:  今天天气不错，挺风和日丽的\n"
     ]
    }
   ],
   "source": [
    "print('原输入:',input_string)\n",
    "# 去掉左边空格(右边用rstrip)\n",
    "input_string_lstrip = input_string.lstrip()\n",
    "print('去掉左边空格后:',input_string_lstrip)\n",
    "# 去掉右边元素\n",
    "input_string_rstrip = input_string.rstrip('A')\n",
    "print('去掉右边元素后:',input_string_rstrip)"
   ]
  },
  {
   "cell_type": "markdown",
   "metadata": {},
   "source": [
    "替换操作"
   ]
  },
  {
   "cell_type": "code",
   "execution_count": 23,
   "metadata": {},
   "outputs": [
    {
     "name": "stdout",
     "output_type": "stream",
     "text": [
      "替换元素后:  昨天天气不错，挺风和日丽的AAA\n",
      "替换元素操作(替换 1 次):  今天天气不错，挺风和日丽的BAA\n"
     ]
    }
   ],
   "source": [
    "# 替换元素\n",
    "input_string_replace = input_string.replace('今天','昨天')\n",
    "print('替换元素后:',input_string_replace)\n",
    "# 替换元素操作(替换次数)\n",
    "num = 1\n",
    "input_string_replace = input_string.replace('A','B',num)\n",
    "print('替换元素操作(替换',num,'次):',input_string_replace)"
   ]
  },
  {
   "cell_type": "markdown",
   "metadata": {},
   "source": [
    "查找操作"
   ]
  },
  {
   "cell_type": "code",
   "execution_count": 26,
   "metadata": {},
   "outputs": [
    {
     "name": "stdout",
     "output_type": "stream",
     "text": [
      " 今天天气不错，挺风和日丽的AAA\n",
      "2\n"
     ]
    }
   ],
   "source": [
    "print(input_string)\n",
    "print(input_string.find('天'))"
   ]
  },
  {
   "cell_type": "markdown",
   "metadata": {},
   "source": [
    "判断操作\\\n",
    "判断是不是全部是字母/数字"
   ]
  },
  {
   "cell_type": "code",
   "execution_count": null,
   "metadata": {},
   "outputs": [
    {
     "name": "stdout",
     "output_type": "stream",
     "text": [
      " 今天天气不错，挺风和日丽的AAA\n",
      "False\n",
      "False\n"
     ]
    }
   ],
   "source": [
    "print(input_string)\n",
    "# 判断是否为字母\n",
    "print(input_string.isalpha())\n",
    "# 判断是否为数字\n",
    "print(input_string.isdigit())"
   ]
  },
  {
   "cell_type": "markdown",
   "metadata": {},
   "source": [
    "分割操作"
   ]
  },
  {
   "cell_type": "code",
   "execution_count": 31,
   "metadata": {},
   "outputs": [
    {
     "name": "stdout",
     "output_type": "stream",
     "text": [
      "分割元素后: [' 今天天气不错', '挺风和日丽的AAA']\n",
      "分割元素后: [' 今', '', '气不错，挺风和日丽的AAA']\n"
     ]
    }
   ],
   "source": [
    "# 分割元素\n",
    "input_string_split1 = input_string.split('，')\n",
    "print('分割元素后:',input_string_split1)\n",
    "input_string_split2 = input_string.split('天')\n",
    "print('分割元素后:',input_string_split2)\n"
   ]
  },
  {
   "cell_type": "markdown",
   "metadata": {},
   "source": [
    "合并操作"
   ]
  },
  {
   "cell_type": "code",
   "execution_count": 41,
   "metadata": {},
   "outputs": [
    {
     "name": "stdout",
     "output_type": "stream",
     "text": [
      "合并前 ['今天', '天气', '不错', '挺', '风和日丽', '', '的']\n",
      "合并后: 今天1天气1不错1挺1风和日丽11的\n"
     ]
    }
   ],
   "source": [
    "input_string1 = '今天 天气 不错 挺 风和日丽  的'\n",
    "\n",
    "print('合并前',input_string1.split(' '))\n",
    "a = '1'.join(input_string1.split(' '))\n",
    "print('合并后:',a)"
   ]
  },
  {
   "cell_type": "code",
   "execution_count": null,
   "metadata": {},
   "outputs": [],
   "source": [
    "# 大小写转换\n",
    "input_string_upper = input_string.lower()\n",
    "print(input_string_upper)"
   ]
  },
  {
   "cell_type": "markdown",
   "metadata": {},
   "source": [
    "Python 正则表达式"
   ]
  },
  {
   "cell_type": "code",
   "execution_count": 44,
   "metadata": {},
   "outputs": [],
   "source": [
    "import re"
   ]
  },
  {
   "cell_type": "code",
   "execution_count": 53,
   "metadata": {},
   "outputs": [
    {
     "name": "stdout",
     "output_type": "stream",
     "text": [
      "找到所有字符 ['自', '然', '语', '言', '处', '理', '很', '重', '要', '。', '，', '，', 's', '1', '2', 'a', 's', 'b', 'a', 'a', 'c', '7', '8', '9']\n",
      "找到所有的abc ['a', 'b', 'a', 'a', 'c']\n",
      "找到所有的字母 ['s', 'a', 's', 'b', 'a', 'a', 'c']\n",
      "找到所有的数字 ['1', '2', '7', '8', '9']\n"
     ]
    }
   ],
   "source": [
    "input1 = '自然语言处理很重要。，，s12asbaac789'\n",
    "# 定义找到所有字符的pattern1\n",
    "pattern1 = re.compile(r'.')\n",
    "# 定义找到指定字符的pattern2:找到所有的abc\n",
    "pattern2 = re.compile(r'[abc]')\n",
    "# 找到所有字母\n",
    "pattern3 = re.compile(r'[a-zA-Z]')\n",
    "# 找到所有的数字\n",
    "pattern4 = re.compile(r'\\d')\n",
    "print('找到所有字符',re.findall(pattern1,input1))\n",
    "print('找到所有的abc',re.findall(pattern2,input1))\n",
    "print('找到所有的字母',re.findall(pattern3,input1))\n",
    "print('找到所有的数字',re.findall(pattern4,input1))"
   ]
  },
  {
   "cell_type": "markdown",
   "metadata": {},
   "source": [
    "[abc] 指定包含字符\\\n",
    "[a-zA-Z] 指定所有英文字母的大小写\\\n",
    "[^a-zA-Z] 指定所有非英文字母大小写的字符"
   ]
  },
  {
   "cell_type": "markdown",
   "metadata": {},
   "source": [
    "或方法"
   ]
  },
  {
   "cell_type": "code",
   "execution_count": 68,
   "metadata": {},
   "outputs": [
    {
     "data": {
      "text/plain": [
       "['s', '1', '2', 'a', 's', 'b', 'a', 'a', 'c', '7', '8', '9']"
      ]
     },
     "execution_count": 68,
     "metadata": {},
     "output_type": "execute_result"
    }
   ],
   "source": [
    "# 找到所有的字母和数字(或)\n",
    "pattern5 = re.compile(r'[a-zA-Z]|[0-9]')\n",
    "# 等价: pattern5 = re.compile(r'[a-zA-Z0-9]')\n",
    "re.findall(pattern5,input1)"
   ]
  },
  {
   "cell_type": "markdown",
   "metadata": {},
   "source": [
    "匹配数字'\\d'等价于'[0-9]'\\\n",
    "匹配非数字'\\D'\\\n",
    "匹配字母和数字'\\w'\\\n",
    "匹配非字母和数字'W'\\\n",
    "匹配间隔符'\\s'\n"
   ]
  },
  {
   "cell_type": "markdown",
   "metadata": {},
   "source": [
    "##### 重复\n",
    "正则表达式可以匹配不定长的字符串\\\n",
    "'*'    0次或多次匹配\\\n",
    "'+'    1次或多次匹配\\\n",
    "'?'    0次或1次匹配\\\n",
    "'{m}'    精确匹配m次\n",
    "'{m,n}'  最少匹配m次，最多匹配n次"
   ]
  },
  {
   "cell_type": "code",
   "execution_count": 75,
   "metadata": {},
   "outputs": [
    {
     "name": "stdout",
     "output_type": "stream",
     "text": [
      "自然语言处理很重要。，，s12asbaac789\n",
      "['', '', '', '', '', '', '', '', '', '', '', '', '', '12', '', '', '', '', '', '', '789', '']\n",
      "['12', '789']\n",
      "['', '', '', '', '', '', '', '', '', '', '', '', '', '1', '2', '', '', '', '', '', '', '7', '8', '9', '']\n",
      "['789']\n",
      "['12', '789']\n"
     ]
    }
   ],
   "source": [
    "print(input1)\n",
    "pattern6 = re.compile(r'\\d*')\n",
    "print(re.findall(pattern6,input1))\n",
    "pattern7 = re.compile(r'\\d+')\n",
    "print(re.findall(pattern7,input1))\n",
    "pattern8 = re.compile(r'\\d?')\n",
    "print(re.findall(pattern8,input1))\n",
    "pattern9 = re.compile(r'\\d{3}')\n",
    "print(re.findall(pattern9,input1))\n",
    "pattern10 = re.compile(r'\\d{1,3}')\n",
    "print(re.findall(pattern10,input1))"
   ]
  },
  {
   "cell_type": "markdown",
   "metadata": {},
   "source": [
    "Match与search\\\n",
    "他们的返回不是一个简单的字符串列表，而是MatchObject,可以得到更多信息\\\n",
    "如果匹配不成功，题目则返回一个NoneType。\\\n",
    "在匹配玩的结果进行操作之前，必须先判断是否匹配成功(if match条件判断)\\\n",
    "match从字符串开头开始匹配，如果开头位置没匹配成功，就算失败\\\n",
    "search会跳过开头，继续寻找是否有匹配的字符"
   ]
  },
  {
   "cell_type": "code",
   "execution_count": null,
   "metadata": {},
   "outputs": [
    {
     "ename": "AttributeError",
     "evalue": "'NoneType' object has no attribute 'group'",
     "output_type": "error",
     "traceback": [
      "\u001b[1;31m---------------------------------------------------------------------------\u001b[0m",
      "\u001b[1;31mAttributeError\u001b[0m                            Traceback (most recent call last)",
      "Cell \u001b[1;32mIn[116], line 4\u001b[0m\n\u001b[0;32m      2\u001b[0m pattern11 \u001b[38;5;241m=\u001b[39m re\u001b[38;5;241m.\u001b[39mcompile(\u001b[38;5;124mr\u001b[39m\u001b[38;5;124m'\u001b[39m\u001b[38;5;124m\\\u001b[39m\u001b[38;5;124md\u001b[39m\u001b[38;5;132;01m{2}\u001b[39;00m\u001b[38;5;124m'\u001b[39m)\n\u001b[0;32m      3\u001b[0m match \u001b[38;5;241m=\u001b[39m re\u001b[38;5;241m.\u001b[39mmatch(pattern11,input2)\n\u001b[1;32m----> 4\u001b[0m \u001b[38;5;28;01mmatch\u001b[39;00m\u001b[38;5;241m.\u001b[39mgroup()\n",
      "\u001b[1;31mAttributeError\u001b[0m: 'NoneType' object has no attribute 'group'"
     ]
    }
   ],
   "source": [
    "input2 = 'a23自然语言处理'\n",
    "pattern11 = re.compile(r'\\d{2}')\n",
    "# match如果第一个字符就不符合条件，就不会继续匹配\n",
    "match = re.match(pattern11,input2)\n",
    "match.group()"
   ]
  },
  {
   "cell_type": "code",
   "execution_count": 119,
   "metadata": {},
   "outputs": [
    {
     "data": {
      "text/plain": [
       "'23'"
      ]
     },
     "execution_count": 119,
     "metadata": {},
     "output_type": "execute_result"
    }
   ],
   "source": [
    "# search如果第一个不匹配，仍然会继续匹配\n",
    "match = re.search(pattern11,input2)\n",
    "match.group()"
   ]
  },
  {
   "cell_type": "code",
   "execution_count": 2,
   "metadata": {},
   "outputs": [
    {
     "data": {
      "text/plain": [
       "'1.58.1'"
      ]
     },
     "execution_count": 2,
     "metadata": {},
     "output_type": "execute_result"
    }
   ],
   "source": [
    "import openai\n",
    "openai.__version__"
   ]
  },
  {
   "cell_type": "code",
   "execution_count": null,
   "metadata": {},
   "outputs": [],
   "source": []
  }
 ],
 "metadata": {
  "kernelspec": {
   "display_name": "llm_env",
   "language": "python",
   "name": "python3"
  },
  "language_info": {
   "codemirror_mode": {
    "name": "ipython",
    "version": 3
   },
   "file_extension": ".py",
   "mimetype": "text/x-python",
   "name": "python",
   "nbconvert_exporter": "python",
   "pygments_lexer": "ipython3",
   "version": "3.11.11"
  }
 },
 "nbformat": 4,
 "nbformat_minor": 2
}
