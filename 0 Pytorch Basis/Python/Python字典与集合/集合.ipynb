{
 "cells": [
  {
   "cell_type": "markdown",
   "id": "dc10c085-3503-4e94-9622-7bb64bd2b954",
   "metadata": {},
   "source": [
    "### 集合"
   ]
  },
  {
   "cell_type": "markdown",
   "id": "1c5346b3-db35-4cc7-813a-2eb13b24d98a",
   "metadata": {},
   "source": [
    "#### 1.集合的创建"
   ]
  },
  {
   "cell_type": "code",
   "execution_count": 1,
   "id": "0e38d611-3046-417d-8846-6b973833a07f",
   "metadata": {},
   "outputs": [
    {
     "name": "stdout",
     "output_type": "stream",
     "text": [
      "<class 'dict'> <class 'set'>\n"
     ]
    }
   ],
   "source": [
    "#若只创建空的大括号，则默认为字典类型\n",
    "a = {}\n",
    "b = {'one'}\n",
    "print(type(a),type(b))"
   ]
  },
  {
   "cell_type": "code",
   "execution_count": 3,
   "id": "3dd2cd74-0536-4830-83d5-eba072f03375",
   "metadata": {},
   "outputs": [
    {
     "name": "stdout",
     "output_type": "stream",
     "text": [
      "{'Java', 'Python', 'C'}\n",
      "{'h', 't', 'o', 'y', 'P', 'n'}\n"
     ]
    },
    {
     "ename": "TypeError",
     "evalue": "'set' object is not subscriptable",
     "output_type": "error",
     "traceback": [
      "\u001b[1;31m---------------------------------------------------------------------------\u001b[0m",
      "\u001b[1;31mTypeError\u001b[0m                                 Traceback (most recent call last)",
      "Cell \u001b[1;32mIn[3], line 11\u001b[0m\n\u001b[0;32m      9\u001b[0m listc \u001b[38;5;241m=\u001b[39m \u001b[38;5;28mset\u001b[39m(\u001b[38;5;124m\"\u001b[39m\u001b[38;5;124mPython\u001b[39m\u001b[38;5;124m\"\u001b[39m)\n\u001b[0;32m     10\u001b[0m \u001b[38;5;66;03m#由于是无序的，因此不能使用下标索引对其访问\u001b[39;00m\n\u001b[1;32m---> 11\u001b[0m \u001b[38;5;28mprint\u001b[39m(\u001b[43mlistc\u001b[49m\u001b[43m[\u001b[49m\u001b[38;5;241;43m0\u001b[39;49m\u001b[43m]\u001b[49m)\n",
      "\u001b[1;31mTypeError\u001b[0m: 'set' object is not subscriptable"
     ]
    }
   ],
   "source": [
    "#创建集合的三种方法\n",
    "#1.大括号\n",
    "seta = {\"Python\",\"C\",\"Java\"}\n",
    "print(seta)\n",
    "#2.集合推导式(不一定按照迭代顺序排列，因为集合具有无序性)\n",
    "setb = {s for s in \"Python\"}\n",
    "print(setb)\n",
    "#3.使用类型构造器 set函数\n",
    "listc = set(\"Python\")\n",
    "#由于是无序的，因此不能使用下标索引对其访问\n",
    "print(listc[0])"
   ]
  },
  {
   "cell_type": "markdown",
   "id": "93d6e7d0-4c11-4f3b-ae3f-5b11de4b988b",
   "metadata": {},
   "source": [
    "#### 集合的特点：\n",
    "#### ①无序性：无法对集合\n",
    "#### ②唯一性：元素唯一，不能重复"
   ]
  },
  {
   "cell_type": "code",
   "execution_count": 5,
   "id": "75b11257-8da2-4f25-8c5a-432f077efed3",
   "metadata": {},
   "outputs": [
    {
     "name": "stdout",
     "output_type": "stream",
     "text": [
      "{1, 2, 3, 5}\n"
     ]
    }
   ],
   "source": [
    "print(set([1,1,2,2,3,3,5]))"
   ]
  },
  {
   "cell_type": "markdown",
   "id": "29c03c7f-c34f-42e1-83f8-cc5f6892f8b6",
   "metadata": {},
   "source": [
    "### 关于集合的其他用法有待深入学习"
   ]
  }
 ],
 "metadata": {
  "kernelspec": {
   "display_name": "Python 3 (ipykernel)",
   "language": "python",
   "name": "python3"
  },
  "language_info": {
   "codemirror_mode": {
    "name": "ipython",
    "version": 3
   },
   "file_extension": ".py",
   "mimetype": "text/x-python",
   "name": "python",
   "nbconvert_exporter": "python",
   "pygments_lexer": "ipython3",
   "version": "3.10.14"
  }
 },
 "nbformat": 4,
 "nbformat_minor": 5
}
