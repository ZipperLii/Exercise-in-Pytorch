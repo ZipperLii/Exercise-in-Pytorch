{
 "cells": [
  {
   "cell_type": "markdown",
   "id": "8304d29f-38f3-46d0-85e6-b55076470cbb",
   "metadata": {},
   "source": [
    "### 字典"
   ]
  },
  {
   "cell_type": "markdown",
   "id": "1fbf3e06-7cf3-4e36-9644-f07f132e72ab",
   "metadata": {},
   "source": [
    "#### 1.字典的基本用法"
   ]
  },
  {
   "cell_type": "code",
   "execution_count": 28,
   "id": "ca9472e2-2f3b-404c-895f-434217b0508b",
   "metadata": {},
   "outputs": [
    {
     "name": "stdout",
     "output_type": "stream",
     "text": [
      "口口布\n",
      "<class 'dict'>\n"
     ]
    }
   ],
   "source": [
    "x = {\"吕布\":\"口口布\",\"关羽\":\"关习习\"}\n",
    "print(x[\"吕布\"])\n",
    "print(type(x))"
   ]
  },
  {
   "cell_type": "code",
   "execution_count": 29,
   "id": "b6a80843-543f-460d-ab69-15ef36124711",
   "metadata": {},
   "outputs": [
    {
     "name": "stdout",
     "output_type": "stream",
     "text": [
      "{'吕布': '口口布', '关羽': '关习习', '刘备': '刘baby'}\n"
     ]
    }
   ],
   "source": [
    "#字典的增加\n",
    "x[\"刘备\"] = \"刘baby\"\n",
    "print(x)"
   ]
  },
  {
   "cell_type": "markdown",
   "id": "d2d2f109-1085-4785-aeaa-8195e78b5333",
   "metadata": {},
   "source": [
    "#### 2.字典的格式转化"
   ]
  },
  {
   "cell_type": "code",
   "execution_count": 30,
   "id": "2b037bb4-7eac-4517-9867-e32479ab2374",
   "metadata": {},
   "outputs": [
    {
     "name": "stdout",
     "output_type": "stream",
     "text": [
      "{'吕布': '口口布', '关羽': '关习习'}\n"
     ]
    }
   ],
   "source": [
    "#利用元组转化为字典，注意等号之前的字符串不加冒号\n",
    "y = dict(吕布=\"口口布\",关羽=\"关习习\")\n",
    "print(y)"
   ]
  },
  {
   "cell_type": "code",
   "execution_count": 48,
   "id": "fc074e85-bd4a-45e7-92a7-2cab37c30ac6",
   "metadata": {},
   "outputs": [
    {
     "name": "stdout",
     "output_type": "stream",
     "text": [
      "{'吕布': '口口布', '关羽': '关习习', '刘备': '刘baby'}\n",
      "['吕布', '关羽', '刘备']\n"
     ]
    }
   ],
   "source": [
    "#利用列表转化为字典\n",
    "z = dict([(\"吕布\",\"口口布\"),(\"关羽\",\"关习习\"),(\"刘备\",\"刘baby\")])\n",
    "print(z)\n",
    "#此时若再使用list(z),则会只输出只有key的列表\n",
    "print(list(z))"
   ]
  },
  {
   "cell_type": "code",
   "execution_count": 32,
   "id": "5a416698-747d-49f8-9aad-beb0cbacc138",
   "metadata": {},
   "outputs": [
    {
     "name": "stdout",
     "output_type": "stream",
     "text": [
      "{'吕布': '口口布', '关羽': '关习习', '刘备': '刘baby'}\n"
     ]
    }
   ],
   "source": [
    "#注意这里字典外的刘备不加双引号\n",
    "a = dict({\"吕布\":\"口口布\",\"关羽\":\"关习习\"},刘备=\"刘baby\")\n",
    "print(a)"
   ]
  },
  {
   "cell_type": "code",
   "execution_count": 33,
   "id": "678dd39f-9799-4505-965d-bef1cb0c61ed",
   "metadata": {},
   "outputs": [
    {
     "name": "stdout",
     "output_type": "stream",
     "text": [
      "{'吕布': '口口布', '关羽': '关习习', '刘备': '刘baby'}\n"
     ]
    }
   ],
   "source": [
    "#将zip对象转化为字典\n",
    "b = dict(zip([\"吕布\",\"关羽\",\"刘备\"],[\"口口布\",\"关习习\",\"刘baby\"]))\n",
    "print(b)"
   ]
  },
  {
   "cell_type": "markdown",
   "id": "3eb6c51a-9c0e-43a8-8d27-f9327e612acf",
   "metadata": {},
   "source": [
    "#### 2.字典相关的方法"
   ]
  },
  {
   "cell_type": "code",
   "execution_count": 34,
   "id": "48973eaa-3220-4694-b3bf-f831b9b20631",
   "metadata": {},
   "outputs": [
    {
     "name": "stdout",
     "output_type": "stream",
     "text": [
      "{'G': 250, 'o': 250, 'd': 250}\n"
     ]
    }
   ],
   "source": [
    "#fromkeys方法：创建一个字典，所有值都是250\n",
    "aa = dict.fromkeys(\"Good\",250)\n",
    "print(aa)"
   ]
  },
  {
   "cell_type": "code",
   "execution_count": 35,
   "id": "e5ec8326-7ffc-4445-b7ee-631187ec1ee8",
   "metadata": {},
   "outputs": [
    {
     "name": "stdout",
     "output_type": "stream",
     "text": [
      "{'g': None, 'o': None, 'd': None}\n"
     ]
    }
   ],
   "source": [
    "#不输入值，默认为 None 值\n",
    "abc = dict.fromkeys(\"good\")\n",
    "print(abc)\n",
    "#通常情况下可以使用abc[g] = value来给字典中的key赋值"
   ]
  },
  {
   "cell_type": "code",
   "execution_count": 36,
   "id": "b5347843-0bfb-4049-8b33-181bb12dc61a",
   "metadata": {},
   "outputs": [
    {
     "name": "stdout",
     "output_type": "stream",
     "text": [
      "{'g': '70', 'o': '90', 'd': None}\n"
     ]
    }
   ],
   "source": [
    "#update方法：给字典里的key赋值\n",
    "abc.update(g=\"70\",o=\"90\")\n",
    "print(abc)\n",
    "#这种方法在字典里未存在key时会报错"
   ]
  },
  {
   "cell_type": "code",
   "execution_count": 37,
   "id": "0ab8eb56-56a2-40c1-815c-6d7e6e41bd9e",
   "metadata": {},
   "outputs": [
    {
     "name": "stdout",
     "output_type": "stream",
     "text": [
      "{'g': '70', 'o': '90', 'd': None}\n",
      "没有找到c\n"
     ]
    }
   ],
   "source": [
    "#get方法 : get(key,default)，对key进行查找，当找不到时，返回default值\n",
    "print(abc)\n",
    "print(abc.get('c',\"没有找到c\"))"
   ]
  },
  {
   "cell_type": "code",
   "execution_count": 41,
   "id": "d2ef3e49-d9d7-4e34-a18d-59cf1f921156",
   "metadata": {},
   "outputs": [
    {
     "name": "stdout",
     "output_type": "stream",
     "text": [
      "没有找到\n",
      "70\n",
      "{'g': '70', 'o': '90', 'd': None, 'c': '没有找到'}\n"
     ]
    }
   ],
   "source": [
    "#setdefault方法：查找字典里的key\n",
    "#找不到则返回default值，找到了就返回key的value\n",
    "print(abc.setdefault('c',\"没有找到\"))\n",
    "print(abc.setdefault('g',\"没有找到\"))\n",
    "print(abc)\n",
    "#与get不同的是，在setdefault之后，若未找到输入的key，则会添加输入的key\n",
    "#以及相应的value值"
   ]
  },
  {
   "cell_type": "code",
   "execution_count": 39,
   "id": "72da6df5-77ea-4960-8ee1-2cef8397fbab",
   "metadata": {},
   "outputs": [
    {
     "name": "stdout",
     "output_type": "stream",
     "text": [
      "dict_keys(['g', 'o', 'd', 'c'])\n",
      "dict_values(['70', '90', None, '没有找到'])\n",
      "dict_items([('g', '70'), ('o', '90'), ('d', None), ('c', '没有找到')])\n"
     ]
    }
   ],
   "source": [
    "#items(),keys(),values()获取字典的 key和 value\n",
    "print(abc.keys())\n",
    "print(abc.values())\n",
    "print(abc.items())"
   ]
  },
  {
   "cell_type": "markdown",
   "id": "d016f2a3-94a2-429c-8222-1f58331e9a26",
   "metadata": {},
   "source": [
    "#### 3.字典的嵌套"
   ]
  },
  {
   "cell_type": "code",
   "execution_count": 58,
   "id": "1e15d285-1625-466b-a923-cb3db319bb6b",
   "metadata": {},
   "outputs": [
    {
     "name": "stdout",
     "output_type": "stream",
     "text": [
      "80\n"
     ]
    }
   ],
   "source": [
    "#二维字典的创建\n",
    "d = {\"吕布\":{\"语文\":60,\"数学\":70,\"英语\":80},\n",
    "     \"关羽\":{\"语文\":80,\"数学\":90,\"英语\":70},\n",
    "     \"刘备\":{\"语文\":70,\"数学\":80,\"英语\":70}}\n",
    "#输出方法类似二维数组\n",
    "print(d[\"关羽\"][\"语文\"])"
   ]
  },
  {
   "cell_type": "markdown",
   "id": "a3ad3b72-1eef-4c57-bbff-16b3d22c7805",
   "metadata": {},
   "source": [
    "#### 4.字典推导式"
   ]
  },
  {
   "cell_type": "code",
   "execution_count": 71,
   "id": "a56dcbf4-bd2f-4d52-9db0-8e40d21936f0",
   "metadata": {},
   "outputs": [
    {
     "name": "stdout",
     "output_type": "stream",
     "text": [
      "{'g': '70', 'o': '90', 'd': None, 'c': '没有找到'}\n",
      "{'g': '70', 'o': '90', 'd': None, 'c': '没有找到'}\n"
     ]
    }
   ],
   "source": [
    "#与列表推导式类似，这里将所生成的新字典的key和value值互换\n",
    "#这里的abc.items()的数据类型为dict_items，但在for语句中可视为list类型迭代\n",
    "print(abc)\n",
    "b = {v:k for k,v in abc.items()}\n",
    "print(b)"
   ]
  },
  {
   "cell_type": "code",
   "execution_count": 73,
   "id": "c2527ab0-c625-44f7-b2b8-e7a2ebe4ea21",
   "metadata": {},
   "outputs": [
    {
     "name": "stdout",
     "output_type": "stream",
     "text": [
      "{'吕布': {'语文': 60, '数学': 70, '英语': 80}}\n"
     ]
    }
   ],
   "source": [
    "#可以同样利用if条件判断满足条件，并输出满足条件的数值\n",
    "c = {k:v for k,v in d.items() if v[\"语文\"]<70}\n",
    "print(c)"
   ]
  },
  {
   "cell_type": "code",
   "execution_count": 74,
   "id": "6bc261d5-6a60-4777-af0f-4b556c2069c6",
   "metadata": {},
   "outputs": [
    {
     "name": "stdout",
     "output_type": "stream",
     "text": [
      "{1: 6, 3: 6, 5: 6}\n"
     ]
    }
   ],
   "source": [
    "dd = {x:y for x in [1,3,5] for y in [2,4,6]}\n",
    "print(dd)"
   ]
  },
  {
   "cell_type": "code",
   "execution_count": null,
   "id": "4434709d-b3cd-412b-9993-068a2705b659",
   "metadata": {},
   "outputs": [],
   "source": []
  }
 ],
 "metadata": {
  "kernelspec": {
   "display_name": "Python 3 (ipykernel)",
   "language": "python",
   "name": "python3"
  },
  "language_info": {
   "codemirror_mode": {
    "name": "ipython",
    "version": 3
   },
   "file_extension": ".py",
   "mimetype": "text/x-python",
   "name": "python",
   "nbconvert_exporter": "python",
   "pygments_lexer": "ipython3",
   "version": "3.10.14"
  }
 },
 "nbformat": 4,
 "nbformat_minor": 5
}
