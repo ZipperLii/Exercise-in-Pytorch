{
 "cells": [
  {
   "cell_type": "markdown",
   "id": "9b6649cc-fafd-455f-b910-7dd2889a7e2b",
   "metadata": {},
   "source": [
    "#### （跳过函数的创建、形参实参、return等知识点）"
   ]
  },
  {
   "cell_type": "code",
   "execution_count": null,
   "id": "cc5ba1ae-9280-4458-b08a-626b4441917b",
   "metadata": {},
   "outputs": [],
   "source": []
  },
  {
   "cell_type": "code",
   "execution_count": null,
   "id": "ca60a868-cc0e-4e92-80ec-0da137c84b80",
   "metadata": {},
   "outputs": [],
   "source": []
  }
 ],
 "metadata": {
  "kernelspec": {
   "display_name": "Python 3 (ipykernel)",
   "language": "python",
   "name": "python3"
  },
  "language_info": {
   "codemirror_mode": {
    "name": "ipython",
    "version": 3
   },
   "file_extension": ".py",
   "mimetype": "text/x-python",
   "name": "python",
   "nbconvert_exporter": "python",
   "pygments_lexer": "ipython3",
   "version": "3.10.14"
  }
 },
 "nbformat": 4,
 "nbformat_minor": 5
}
