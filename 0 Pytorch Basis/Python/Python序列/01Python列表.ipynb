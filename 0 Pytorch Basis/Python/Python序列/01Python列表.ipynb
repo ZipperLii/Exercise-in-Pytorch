{
 "cells": [
  {
   "cell_type": "markdown",
   "id": "554bb07c-40af-4027-87cc-5fd7e5c35e5f",
   "metadata": {},
   "source": [
    "### 2024.6.11"
   ]
  },
  {
   "cell_type": "markdown",
   "id": "aed7ed04-5d2a-4845-b9d2-ae33cceed0d7",
   "metadata": {},
   "source": [
    "#### range函数"
   ]
  },
  {
   "cell_type": "code",
   "execution_count": 1,
   "id": "0568c9a0-b0a7-451e-93fd-b1c4f2baad76",
   "metadata": {
    "scrolled": true
   },
   "outputs": [
    {
     "name": "stdout",
     "output_type": "stream",
     "text": [
      "0 1 2 3 4 5 6 7 8 9 "
     ]
    }
   ],
   "source": [
    "for i in range(10):\n",
    "    print(i,end=' ')"
   ]
  },
  {
   "cell_type": "code",
   "execution_count": 2,
   "id": "ec9bf3e1-d08a-4802-80d3-7becd9b490c0",
   "metadata": {},
   "outputs": [
    {
     "name": "stdout",
     "output_type": "stream",
     "text": [
      "0 2 4 6 8 "
     ]
    }
   ],
   "source": [
    "#range(起始数，终止数，step)\n",
    "for i in range(0,10,2):\n",
    "    print(i,end =' ')"
   ]
  },
  {
   "cell_type": "code",
   "execution_count": 3,
   "id": "d49fe78b-1653-4419-a5fc-f0f1e82202d9",
   "metadata": {
    "scrolled": true
   },
   "outputs": [
    {
     "name": "stdout",
     "output_type": "stream",
     "text": [
      "abc"
     ]
    }
   ],
   "source": [
    "#for循环通用用法\n",
    "a = 'abc'\n",
    "for idx in a:\n",
    "    print(idx,end = '')"
   ]
  },
  {
   "cell_type": "markdown",
   "id": "5afdbe8c-2bc8-4833-b8fd-29ca364aa71b",
   "metadata": {},
   "source": [
    "#### 列表与切片"
   ]
  },
  {
   "cell_type": "code",
   "execution_count": 4,
   "id": "e80319d7-7054-41ef-bfc9-4dd4faa4e0f3",
   "metadata": {},
   "outputs": [
    {
     "data": {
      "text/plain": [
       "[1, 2, 3, \"let's go\"]"
      ]
     },
     "execution_count": 4,
     "metadata": {},
     "output_type": "execute_result"
    }
   ],
   "source": [
    "#To generate a list\n",
    "a = [1,2,3,\"let's go\"]\n",
    "a"
   ]
  },
  {
   "cell_type": "code",
   "execution_count": 5,
   "id": "d3764489-b115-43c0-ad60-063882c1e770",
   "metadata": {},
   "outputs": [
    {
     "data": {
      "text/plain": [
       "[1, 2, 3, \"let's go\", 'OK']"
      ]
     },
     "execution_count": 5,
     "metadata": {},
     "output_type": "execute_result"
    }
   ],
   "source": [
    "#append只能在最后加一个元素\n",
    "a.append(\"OK\")\n",
    "a"
   ]
  },
  {
   "cell_type": "code",
   "execution_count": 6,
   "id": "b2b69f6e-9f50-4d02-aaac-964cebae8a39",
   "metadata": {},
   "outputs": [
    {
     "data": {
      "text/plain": [
       "[1, 2, 3, \"let's go\", 'OK', 4, 5, 'Yes', 'Yes']"
      ]
     },
     "execution_count": 6,
     "metadata": {},
     "output_type": "execute_result"
    }
   ],
   "source": [
    "#extend可以加多个元素\n",
    "a.extend([4,5,\"Yes\",\"Yes\"])\n",
    "a\n",
    "#此处也可以用切片操作，与extend等价: a[len(a):]=[4,5,\"Yes\",\"Yes\"]"
   ]
  },
  {
   "cell_type": "code",
   "execution_count": 7,
   "id": "afb53d0f-44fe-4a88-8b37-f53d7358b265",
   "metadata": {},
   "outputs": [
    {
     "data": {
      "text/plain": [
       "[1, 2, 3, \"let's go\", 'OK', 4, 5, 'Yes']"
      ]
     },
     "execution_count": 7,
     "metadata": {},
     "output_type": "execute_result"
    }
   ],
   "source": [
    "#remove(列表中的具体变量),只能移除第一个元素\n",
    "a.remove(\"Yes\")\n",
    "a"
   ]
  },
  {
   "cell_type": "code",
   "execution_count": 8,
   "id": "4d9356ae-e7bd-45d9-b9f8-afa042f755bb",
   "metadata": {},
   "outputs": [
    {
     "data": {
      "text/plain": [
       "[1, 2, 2.5, 3, \"let's go\", 'OK', 4, 5, 'Yes']"
      ]
     },
     "execution_count": 8,
     "metadata": {},
     "output_type": "execute_result"
    }
   ],
   "source": [
    "#insert(idx,元素)\n",
    "a.insert(2,2.5)\n",
    "a"
   ]
  },
  {
   "cell_type": "code",
   "execution_count": 9,
   "id": "66f65e4c-9eee-40b3-8f38-b568f4361329",
   "metadata": {},
   "outputs": [
    {
     "data": {
      "text/plain": [
       "['OK', 4, 5, 'Yes']"
      ]
     },
     "execution_count": 9,
     "metadata": {},
     "output_type": "execute_result"
    }
   ],
   "source": [
    "#切片操作\n",
    "a[5:]"
   ]
  },
  {
   "cell_type": "code",
   "execution_count": 10,
   "id": "e1676552-797a-4542-8e91-ca591d0d6f67",
   "metadata": {},
   "outputs": [
    {
     "data": {
      "text/plain": [
       "[1, 2.5, \"let's go\"]"
      ]
     },
     "execution_count": 10,
     "metadata": {},
     "output_type": "execute_result"
    }
   ],
   "source": [
    "#与range类似[start:end:step]\n",
    "a[0:5:2]"
   ]
  },
  {
   "cell_type": "code",
   "execution_count": 11,
   "id": "d53d2d02-3984-4910-b0dd-2612a363ec06",
   "metadata": {},
   "outputs": [
    {
     "data": {
      "text/plain": [
       "[1, 2, 3, 4, 5, 6, 7]"
      ]
     },
     "execution_count": 11,
     "metadata": {},
     "output_type": "execute_result"
    }
   ],
   "source": [
    "#sort函数排序\n",
    "b = [1,5,3,7,2,6,4]\n",
    "b.sort()\n",
    "b\n",
    "#b.sort(reverse=True)可以实现降序"
   ]
  },
  {
   "cell_type": "code",
   "execution_count": 12,
   "id": "2a7f532d-cbe4-4404-afc8-0fe6304fbc2d",
   "metadata": {},
   "outputs": [
    {
     "name": "stdout",
     "output_type": "stream",
     "text": [
      "[3, 6, 4, 8, 1, 2, 7, 3, 2]\n",
      "[1, 2, 2, 3, 3, 4, 6, 7, 8]\n"
     ]
    }
   ],
   "source": [
    "#sorted函数用法:不改变原来列表的顺序，只是输出一个排序后的列表，reversed函数同理\n",
    "listc = [3,6,4,8,1,2,7,3,2]\n",
    "listc_sort = sorted(listc)\n",
    "print(listc)\n",
    "print(listc_sort)\n",
    "#此时，sorted函数中可以通过调整key参数，如sorted(listc, key = len)，则可按照长度排序"
   ]
  },
  {
   "cell_type": "code",
   "execution_count": 13,
   "id": "894af2f8-af54-4f3c-84c6-0acbd19b40d8",
   "metadata": {},
   "outputs": [
    {
     "data": {
      "text/plain": [
       "[7, 6, 5, 4, 3, 2, 1]"
      ]
     },
     "execution_count": 13,
     "metadata": {},
     "output_type": "execute_result"
    }
   ],
   "source": [
    "#reverse顺序颠倒\n",
    "b.reverse()\n",
    "b"
   ]
  },
  {
   "cell_type": "code",
   "execution_count": 14,
   "id": "6350513c-f1f8-4549-aee8-9f25817417e7",
   "metadata": {},
   "outputs": [
    {
     "data": {
      "text/plain": [
       "0"
      ]
     },
     "execution_count": 14,
     "metadata": {},
     "output_type": "execute_result"
    }
   ],
   "source": [
    "b.index(7)"
   ]
  },
  {
   "cell_type": "code",
   "execution_count": 15,
   "id": "252f8ba3-7c8f-4ea7-bc90-09dea441719b",
   "metadata": {},
   "outputs": [
    {
     "data": {
      "text/plain": [
       "[8, 6, 5, 4, 3, 2, 1]"
      ]
     },
     "execution_count": 15,
     "metadata": {},
     "output_type": "execute_result"
    }
   ],
   "source": [
    "#当不清楚元素的索引值时替换元素\n",
    "b[b.index(7)]=8\n",
    "b"
   ]
  },
  {
   "cell_type": "code",
   "execution_count": 16,
   "id": "c615668f-1304-4643-9007-3647ba3d10d9",
   "metadata": {},
   "outputs": [],
   "source": [
    "#拷贝列表\n",
    "a_copy1 = a.copy()\n",
    "a_copy2 = a[:]"
   ]
  },
  {
   "cell_type": "markdown",
   "id": "41223ea1-0ece-404c-9d32-a2fdc85b77f2",
   "metadata": {},
   "source": [
    "#### 二维列表"
   ]
  },
  {
   "cell_type": "code",
   "execution_count": 17,
   "id": "991299c0-b564-411f-a95f-614a35511f0c",
   "metadata": {},
   "outputs": [
    {
     "data": {
      "text/plain": [
       "[[1, 2, 3], [4, 5, 6], [7, 8, 9]]"
      ]
     },
     "execution_count": 17,
     "metadata": {},
     "output_type": "execute_result"
    }
   ],
   "source": [
    "#二维列表（矩阵）的生成\n",
    "x = [[1,2,3],[4,5,6],[7,8,9]]\n",
    "x"
   ]
  },
  {
   "cell_type": "code",
   "execution_count": 18,
   "id": "085305ae-5cf8-4db6-9967-3c7819406926",
   "metadata": {},
   "outputs": [
    {
     "data": {
      "text/plain": [
       "[[1, 2, 3], [4, 0, 6], [7, 8, 9]]"
      ]
     },
     "execution_count": 18,
     "metadata": {},
     "output_type": "execute_result"
    }
   ],
   "source": [
    "#列表元素的更改\n",
    "x[1][1] = 0\n",
    "x"
   ]
  },
  {
   "cell_type": "code",
   "execution_count": 19,
   "id": "42766fb4-659a-4bf5-bad0-01f68c12df06",
   "metadata": {},
   "outputs": [
    {
     "data": {
      "text/plain": [
       "[[1, 2, 3], [4, 0, 6], [7, 8, 9]]"
      ]
     },
     "execution_count": 19,
     "metadata": {},
     "output_type": "execute_result"
    }
   ],
   "source": [
    "#浅拷贝\n",
    "x_copy = x.copy()\n",
    "x_copy"
   ]
  },
  {
   "cell_type": "code",
   "execution_count": 20,
   "id": "1c1076b6-16df-4de1-b902-1f8aed9ff171",
   "metadata": {},
   "outputs": [
    {
     "data": {
      "text/plain": [
       "[[1, 2, 3], [4, 5, 6], [7, 8, 9]]"
      ]
     },
     "execution_count": 20,
     "metadata": {},
     "output_type": "execute_result"
    }
   ],
   "source": [
    "#浅拷贝的问题:在原列表更改元素后，拷贝的列表可能会随着更改\n",
    "x[1][1] = 5\n",
    "x_copy"
   ]
  },
  {
   "cell_type": "code",
   "execution_count": 21,
   "id": "c85e77ba-1777-4784-9eb6-01d5b2d43650",
   "metadata": {},
   "outputs": [
    {
     "data": {
      "text/plain": [
       "[[1, 2, 3], [4, 5, 6], [7, 8, 9]]"
      ]
     },
     "execution_count": 21,
     "metadata": {},
     "output_type": "execute_result"
    }
   ],
   "source": [
    "#因此需要使用深拷贝\n",
    "import copy\n",
    "x_copy1 = copy.deepcopy(x)\n",
    "x_copy1"
   ]
  },
  {
   "cell_type": "code",
   "execution_count": 22,
   "id": "57e01387-b408-477a-b896-dbde5b609d97",
   "metadata": {},
   "outputs": [
    {
     "data": {
      "text/plain": [
       "[[1, 2, 3], [4, 5, 6], [7, 8, 9]]"
      ]
     },
     "execution_count": 22,
     "metadata": {},
     "output_type": "execute_result"
    }
   ],
   "source": [
    "#在使用copy模块的deepcopy后，原对象所引用的元素也一起被拷贝，因此更改原列表，不影响拷贝后的列表x_copy1\n",
    "x[1][1] = 0\n",
    "x_copy1"
   ]
  },
  {
   "cell_type": "markdown",
   "id": "d6b0dda1-3b1e-4908-a8f9-828ca3087dc8",
   "metadata": {},
   "source": [
    "#### 列表推导式"
   ]
  },
  {
   "cell_type": "code",
   "execution_count": 23,
   "id": "689e053b-a503-4ba7-8270-b325cc838aa8",
   "metadata": {},
   "outputs": [
    {
     "name": "stdout",
     "output_type": "stream",
     "text": [
      "[2, 4, 6, 8, 10]\n",
      "[2, 4, 6, 8, 10]\n"
     ]
    }
   ],
   "source": [
    "#将一维数字列表中每个元素变为两倍\n",
    "arr1 = [1,2,3,4,5]\n",
    "arr2 = [1,2,3,4,5]\n",
    "#常规做法如下\n",
    "for i in range(len(arr1)):\n",
    "    arr1[i] *= 2\n",
    "#列表推导式做法\n",
    "arr2 = [i*2 for i in arr2]\n",
    "print(arr1)\n",
    "print(arr2)"
   ]
  },
  {
   "cell_type": "code",
   "execution_count": 24,
   "id": "b3188cd4-9357-49eb-a2e5-3dd1382dd81a",
   "metadata": {},
   "outputs": [
    {
     "data": {
      "text/plain": [
       "[0, 1, 2, 3, 4, 5, 6, 7, 8, 9]"
      ]
     },
     "execution_count": 24,
     "metadata": {},
     "output_type": "execute_result"
    }
   ],
   "source": [
    "#[f(target) for target in iterable]\n",
    "#由于只能用于列表，故使用中括号\n",
    "#for循环迭代赋予target数值，并将其赋予for之前的含target的表达式f(target)中\n",
    "xyz = [i for i in range(10)]\n",
    "xyz"
   ]
  },
  {
   "cell_type": "code",
   "execution_count": 25,
   "id": "8ed588ff-8ccd-483c-8407-8152d273cabb",
   "metadata": {},
   "outputs": [
    {
     "data": {
      "text/plain": [
       "['HH', 'EE', 'LL', 'LL', 'OO']"
      ]
     },
     "execution_count": 25,
     "metadata": {},
     "output_type": "execute_result"
    }
   ],
   "source": [
    "#字符串形式的列表\n",
    "abc = [i*2 for i in \"HELLO\"]\n",
    "abc"
   ]
  },
  {
   "cell_type": "code",
   "execution_count": 26,
   "id": "81f7cb89-562b-45de-8a30-23bf3c1aae0d",
   "metadata": {},
   "outputs": [
    {
     "name": "stdout",
     "output_type": "stream",
     "text": [
      "[2, 4, 8]\n"
     ]
    }
   ],
   "source": [
    "#列表推导式获取矩阵中的元素\n",
    "matrix = [[1,2,3],\n",
    "          [1,4,9],\n",
    "          [1,8,27]]\n",
    "#获取第二列元素\n",
    "m1 = [row[1] for row in matrix]\n",
    "print(m1)"
   ]
  },
  {
   "cell_type": "code",
   "execution_count": 27,
   "id": "91cc8c40-1f41-41fd-b66e-ed80497f3884",
   "metadata": {},
   "outputs": [
    {
     "data": {
      "text/plain": [
       "[1, 4, 27]"
      ]
     },
     "execution_count": 27,
     "metadata": {},
     "output_type": "execute_result"
    }
   ],
   "source": [
    "#获取主对角线元素: len(matrix)为方阵的维数，i代表行数和列数\n",
    "m2 = [matrix[i][i] for i in range(len(matrix))]\n",
    "m2"
   ]
  },
  {
   "cell_type": "code",
   "execution_count": 28,
   "id": "cc0e397d-0341-4a90-a2e2-c11730aa9735",
   "metadata": {},
   "outputs": [
    {
     "data": {
      "text/plain": [
       "[3, 4, 1]"
      ]
     },
     "execution_count": 28,
     "metadata": {},
     "output_type": "execute_result"
    }
   ],
   "source": [
    "#同理可获取副对角线的元素\n",
    "m3 = [matrix[i][-1-i] for i in range(len(matrix))]\n",
    "m3"
   ]
  },
  {
   "cell_type": "code",
   "execution_count": 29,
   "id": "05fdffc8-5048-4eec-8d17-f67f07ab1e02",
   "metadata": {},
   "outputs": [
    {
     "name": "stdout",
     "output_type": "stream",
     "text": [
      "[0, 2, 4, 6, 8]\n",
      "[1, 3, 5, 7, 9]\n"
     ]
    }
   ],
   "source": [
    "#列表推导式高阶表达\n",
    "#[f(target) for target in iterable if target's condition]\n",
    "#由于只能用于列表，故使用中括号\n",
    "#先对target进行条件判断，如果满足if后的条件，进行下一步操作（此处也可理解为if语句在for语句内）\n",
    "#在for循环中迭代赋予target数值，然后将其赋予for之前的含target的表达式f(target)中\n",
    "even1 = [i for i in range(10) if i%2 == 0]\n",
    "even2 = [i + 1 for i in range(10) if i%2 == 0]\n",
    "print(even1)\n",
    "print(even2)"
   ]
  },
  {
   "cell_type": "code",
   "execution_count": 30,
   "id": "e5e6de97-5bee-41c3-9f35-e020666f51ce",
   "metadata": {},
   "outputs": [
    {
     "data": {
      "text/plain": [
       "['Fish', 'fantastic', 'Fine']"
      ]
     },
     "execution_count": 30,
     "metadata": {},
     "output_type": "execute_result"
    }
   ],
   "source": [
    "#应用：筛选列表中F开头的单词\n",
    "word_list = [\"Great\",\"Fish\",\"Excellent\",\"fantastic\",\"Good\",\"Fine\"]\n",
    "F_list = [word for word in word_list if(word[0] == 'f')or(word [0] == 'F')]\n",
    "F_list"
   ]
  },
  {
   "cell_type": "code",
   "execution_count": 1,
   "id": "5accb6a8-59fa-408b-a869-dbf88aeb2d89",
   "metadata": {},
   "outputs": [
    {
     "data": {
      "text/plain": [
       "[1, 2, 3, 4, 5, 6, 7, 8, 9]"
      ]
     },
     "execution_count": 1,
     "metadata": {},
     "output_type": "execute_result"
    }
   ],
   "source": [
    "#应用：矩阵降维(for循环嵌套)\n",
    "matrix_1 = [[1,2,3],\n",
    "            [4,5,6],\n",
    "            [7,8,9]]\n",
    "m_1 = [col for row in matrix_1 for col in row]\n",
    "m_1\n",
    "#其等价的代码如下：\n",
    "#for row in matrix_1:\n",
    "#    for col in row:\n",
    "#        m_1.append(col)"
   ]
  }
 ],
 "metadata": {
  "kernelspec": {
   "display_name": "Python 3 (ipykernel)",
   "language": "python",
   "name": "python3"
  },
  "language_info": {
   "codemirror_mode": {
    "name": "ipython",
    "version": 3
   },
   "file_extension": ".py",
   "mimetype": "text/x-python",
   "name": "python",
   "nbconvert_exporter": "python",
   "pygments_lexer": "ipython3",
   "version": "3.10.14"
  }
 },
 "nbformat": 4,
 "nbformat_minor": 5
}
