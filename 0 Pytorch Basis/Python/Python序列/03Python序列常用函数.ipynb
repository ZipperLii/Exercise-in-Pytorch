{
 "cells": [
  {
   "cell_type": "markdown",
   "id": "093b81a6-4e0d-40fd-82a1-52382391cc5b",
   "metadata": {},
   "source": [
    "### 常用的序列函数"
   ]
  },
  {
   "cell_type": "markdown",
   "id": "c2ca7391-4223-4bfc-a596-565265e1f326",
   "metadata": {
    "jp-MarkdownHeadingCollapsed": true
   },
   "source": [
    "#### 列表、元组、字符串的共同点：\n",
    "##### 1.都可以通过索引获取每一个元素\n",
    "##### 2.第一个元素的索引值都是0\n",
    "##### 3.都可以通过切片的方法获取一个范围\n",
    "##### 4.都有很多共同运算符\n",
    "#### Python中将列表、元组、字符串统称为序列\n",
    "##### 列表为可变序列，元组和字符串为不可变序列"
   ]
  },
  {
   "cell_type": "markdown",
   "id": "a3b0c704-fadb-44a9-807b-6e446005aa65",
   "metadata": {},
   "source": [
    "#### 1.基本方法"
   ]
  },
  {
   "cell_type": "code",
   "execution_count": 19,
   "id": "9afd5103-c0e0-4484-abc4-50609a0f62df",
   "metadata": {},
   "outputs": [
    {
     "name": "stdout",
     "output_type": "stream",
     "text": [
      "[1, 2, 3, 4.5, 6]\n",
      "(1, 2, 3, 4, 5, 6)\n",
      "AppleOrange\n"
     ]
    }
   ],
   "source": [
    "#加法\n",
    "list_ = [1,2,3] + [4.5,6]\n",
    "tuple_ = (1,2,3) + (4,5,6)\n",
    "string_ = \"Apple\"+\"Orange\"\n",
    "print(list_)\n",
    "print(tuple_)\n",
    "print(string_)"
   ]
  },
  {
   "cell_type": "code",
   "execution_count": 20,
   "id": "f4433d25-2b2d-4202-8eb1-9f5e8b514249",
   "metadata": {},
   "outputs": [
    {
     "data": {
      "text/plain": [
       "[1, 2, 3, 1, 2, 3, 1, 2, 3]"
      ]
     },
     "execution_count": 20,
     "metadata": {},
     "output_type": "execute_result"
    }
   ],
   "source": [
    "#乘法(其他同理)\n",
    "list_1 = [1,2,3]*3\n",
    "list_1"
   ]
  },
  {
   "cell_type": "code",
   "execution_count": 21,
   "id": "81ca9033-5265-43bb-92c8-562bd0593f8b",
   "metadata": {},
   "outputs": [
    {
     "name": "stdout",
     "output_type": "stream",
     "text": [
      "True False\n",
      "True False\n"
     ]
    }
   ],
   "source": [
    "# is \n",
    "x = \"Fish1\"\n",
    "y = \"Fish1\"\n",
    "z = \"dog1\"\n",
    "print(x is y,x is z)\n",
    "\n",
    "#in 和 not in\n",
    "a = \"Fish\"\n",
    "print(a in x,a in z)"
   ]
  },
  {
   "cell_type": "code",
   "execution_count": 22,
   "id": "e7641026-be2c-40e8-8c2e-f6f6941a9fa4",
   "metadata": {},
   "outputs": [
    {
     "name": "stdout",
     "output_type": "stream",
     "text": [
      "[1, 2, 3]\n"
     ]
    },
    {
     "ename": "NameError",
     "evalue": "name 'acc' is not defined",
     "output_type": "error",
     "traceback": [
      "\u001b[1;31m---------------------------------------------------------------------------\u001b[0m",
      "\u001b[1;31mNameError\u001b[0m                                 Traceback (most recent call last)",
      "Cell \u001b[1;32mIn[22], line 5\u001b[0m\n\u001b[0;32m      3\u001b[0m \u001b[38;5;28mprint\u001b[39m(acc)\n\u001b[0;32m      4\u001b[0m \u001b[38;5;28;01mdel\u001b[39;00m acc\n\u001b[1;32m----> 5\u001b[0m \u001b[38;5;28mprint\u001b[39m(\u001b[43macc\u001b[49m)\n",
      "\u001b[1;31mNameError\u001b[0m: name 'acc' is not defined"
     ]
    }
   ],
   "source": [
    "#序列的删除   del(元组和字符串同理)\n",
    "acc = [1,2,3]\n",
    "print(acc)\n",
    "del acc\n",
    "print(acc)\n",
    "#使用del语句删除后，输出acc会直接报错"
   ]
  },
  {
   "cell_type": "code",
   "execution_count": 23,
   "id": "b5f8b00c-2779-4294-b9b9-830c4bae24d9",
   "metadata": {},
   "outputs": [
    {
     "name": "stdout",
     "output_type": "stream",
     "text": [
      "[4, 5, 6, 7, 8]\n",
      "[]\n"
     ]
    }
   ],
   "source": [
    "#列表的清空\n",
    "acc = [4,5,6,7,8]\n",
    "print(acc)\n",
    "acc.clear()\n",
    "print(acc)\n",
    "#此处 acc.clear() 等价于 del acc[:]"
   ]
  },
  {
   "cell_type": "code",
   "execution_count": 24,
   "id": "9b8b3982-7c0f-4da7-b026-2967a4530877",
   "metadata": {},
   "outputs": [
    {
     "name": "stdout",
     "output_type": "stream",
     "text": [
      "(1, 2, 3, 4)\n"
     ]
    }
   ],
   "source": [
    "#列表，元组，字符串相互转换\n",
    "a1 = [1,2,3,4]\n",
    "a1_ = tuple(a1)\n",
    "print(a1_)"
   ]
  },
  {
   "cell_type": "code",
   "execution_count": 25,
   "id": "05e51375-929a-4751-b159-edfed981fcb0",
   "metadata": {},
   "outputs": [
    {
     "name": "stdout",
     "output_type": "stream",
     "text": [
      "['A', 'B', 'C', 'D', 'E', 'F', 'G']\n"
     ]
    }
   ],
   "source": [
    "#同理\n",
    "b1 = \"ABCDEFG\"\n",
    "b1_ = list(b1)\n",
    "print(b1_)"
   ]
  },
  {
   "cell_type": "code",
   "execution_count": 26,
   "id": "b6cde8ad-b967-44ed-a681-b074aa1f9a37",
   "metadata": {},
   "outputs": [
    {
     "name": "stdout",
     "output_type": "stream",
     "text": [
      "[1, 2, 3, 4] <class 'str'>\n"
     ]
    }
   ],
   "source": [
    "#转字符串  str()\n",
    "#此处列表加上了引号，则表示字符串\n",
    "a2_ = str(a1)\n",
    "print(a2_, type(a2_))"
   ]
  },
  {
   "cell_type": "code",
   "execution_count": 27,
   "id": "888a7adf-69ce-4b53-8d9a-05a191545fbf",
   "metadata": {},
   "outputs": [
    {
     "name": "stdout",
     "output_type": "stream",
     "text": [
      "4\n",
      "A\n"
     ]
    }
   ],
   "source": [
    "#最大值和最小值\n",
    "print(max(a1))\n",
    "print(min(b1)) #字符串的最大最小值按字母的编码查找"
   ]
  },
  {
   "cell_type": "markdown",
   "id": "82193d55-fa7b-4ca5-bebf-6293abf8d974",
   "metadata": {},
   "source": [
    "#### 2.enumerate函数"
   ]
  },
  {
   "cell_type": "code",
   "execution_count": 37,
   "id": "338ffd4b-9f58-46ad-9e61-aaf653b20c87",
   "metadata": {},
   "outputs": [
    {
     "name": "stdout",
     "output_type": "stream",
     "text": [
      "<class 'enumerate'>\n",
      "[(0, 'Spring'), (1, 'Sumer'), (2, 'Fall'), (3, 'Winter')]\n",
      "[(10, 'Spring'), (11, 'Sumer'), (12, 'Fall'), (13, 'Winter')]\n"
     ]
    }
   ],
   "source": [
    "#enumerate函数 : 对列表中的数进行编号enumerate(target,start)\n",
    "#返回值为enumerate型变量，还需要转化成list、tuple、str等\n",
    "seasons = [\"Spring\",\"Sumer\",\"Fall\",\"Winter\"]\n",
    "seasons_ = enumerate(seasons)#默认从0开始编号\n",
    "seasons1_ = enumerate(seasons,10)#从10开始编号\n",
    "print(type(seasons_))\n",
    "print(list(seasons_))\n",
    "print(list(seasons1_))\n",
    "#转换成的enumerate类型变量，可以直接使用dict函数转化成字典类型便于使用"
   ]
  },
  {
   "cell_type": "markdown",
   "id": "c87aee14-35cd-4a93-9077-e476d679398d",
   "metadata": {},
   "source": [
    "#### 3.zip函数"
   ]
  },
  {
   "cell_type": "code",
   "execution_count": 29,
   "id": "985713f8-4c3c-469a-bcbd-cc57879eeb77",
   "metadata": {},
   "outputs": [
    {
     "name": "stdout",
     "output_type": "stream",
     "text": [
      "<class 'zip'>\n",
      "[(1, 'a'), (2, 'b'), (3, 'c')]\n"
     ]
    }
   ],
   "source": [
    "#zip函数 : 两个列表对应组合 返回值为zip型变量，还需要转成序列\n",
    "x = [1,2,3]\n",
    "y = ['a','b','c']\n",
    "zipped1 = zip(x,y)\n",
    "print(type(zipped1))\n",
    "print(list(zipped1))"
   ]
  },
  {
   "cell_type": "code",
   "execution_count": 30,
   "id": "ed072ad5-7ffd-437e-b88d-dbfecab54a49",
   "metadata": {},
   "outputs": [
    {
     "name": "stdout",
     "output_type": "stream",
     "text": [
      "[(1, 'a', 'A'), (2, 'b', 'B'), (3, 'c', 'C'), (4, 'd', 'D')]\n"
     ]
    }
   ],
   "source": [
    "#一般zip函数以最短的序列为准\n",
    "xx = [1,2,3,4,5,6,7]\n",
    "yy = ['a','b','c','d']\n",
    "zz = 'ABCDEF'\n",
    "zippedxyz = zip(xx,yy,zz)\n",
    "print(list(zippedxyz)) #以最短的yy为准，所以只产生了四个组合"
   ]
  },
  {
   "cell_type": "code",
   "execution_count": 31,
   "id": "8f11bbcc-5a9b-49de-920b-804961742fd9",
   "metadata": {},
   "outputs": [
    {
     "name": "stdout",
     "output_type": "stream",
     "text": [
      "[(1, 'a', 'A'), (2, 'b', 'B'), (3, 'c', 'C'), (4, 'd', 'D'), (5, None, 'E'), (6, None, 'F'), (7, None, None)]\n"
     ]
    }
   ],
   "source": [
    "#itertools.zip_longesst函数用法（不会省略过长的列表数据）\n",
    "import itertools\n",
    "zippedxyz_ = itertools.zip_longest(xx,yy,zz)\n",
    "print(list(zippedxyz_))\n",
    "#输出的结果中，使用None填充了长度不够的列表"
   ]
  },
  {
   "cell_type": "markdown",
   "id": "3510b43d-0d59-4e61-b00d-e8fe40b1815f",
   "metadata": {},
   "source": [
    "#### 4.map函数"
   ]
  },
  {
   "cell_type": "code",
   "execution_count": 2,
   "id": "3da1f431-5ec4-435a-af70-15234aa355d7",
   "metadata": {},
   "outputs": [
    {
     "name": "stdout",
     "output_type": "stream",
     "text": [
      "[71, 79, 79, 68, 97]\n",
      "[32, 9, 1000]\n",
      "[2, 3, 9]\n"
     ]
    }
   ],
   "source": [
    "#map(method,target)\n",
    "#这里的ord方法是将可迭代对象的字符转换为编码\n",
    "mapped1 = map(ord,\"GOODa\")\n",
    "print(list(mapped1))\n",
    "#pow方法是计算其次方数\n",
    "#[2,3,10],[5,2,3]代表分别计算2的5次方，3的2次方，10的3次方\n",
    "mapped2 = map(pow,[2,3,10],[5,2,3])\n",
    "print(list(mapped2))\n",
    "#max方法,对传入对象进行一一对比\n",
    "mapped3 = map(max,[1,3,5],[2,2,2],[0,3,9,8,7])\n",
    "print(list(mapped3))"
   ]
  },
  {
   "cell_type": "markdown",
   "id": "97871bbe-9bdc-49a4-8788-a215c05ce209",
   "metadata": {},
   "source": [
    "#### 5.filter函数"
   ]
  },
  {
   "cell_type": "code",
   "execution_count": 33,
   "id": "542122b4-02e6-4da3-a410-5d0695a5ce71",
   "metadata": {},
   "outputs": [
    {
     "name": "stdout",
     "output_type": "stream",
     "text": [
      "['o', 'o', 'd']\n"
     ]
    }
   ],
   "source": [
    "#输出小写字母，此处使用了str.islower方法\n",
    "print(list(filter(str.islower,\"GoodA\")))"
   ]
  },
  {
   "cell_type": "markdown",
   "id": "d7ec51b5-8918-47af-9d38-dc8887a82525",
   "metadata": {},
   "source": [
    "### （可迭代对象可重复使用，而迭代器只能一次性使用）"
   ]
  },
  {
   "cell_type": "code",
   "execution_count": 38,
   "id": "1f6c1d0d-56b3-42ec-98c2-01791d9b0ae6",
   "metadata": {},
   "outputs": [
    {
     "name": "stdout",
     "output_type": "stream",
     "text": [
      "70 111 111 68 97 []\n"
     ]
    }
   ],
   "source": [
    "#例子如下\n",
    "x123 = map(ord,\"FooDa\")\n",
    "#利用for进行一次迭代\n",
    "for each in x123:\n",
    "    print(each,end=\" \")\n",
    "#输出查看迭代器迭代后的内容\n",
    "print(list(x123))\n",
    "#在map生成的迭代器迭代之后，元素已经为空"
   ]
  },
  {
   "cell_type": "code",
   "execution_count": 6,
   "id": "747fa6f2-acb5-45b1-b121-3c43c71127f8",
   "metadata": {},
   "outputs": [
    {
     "name": "stdout",
     "output_type": "stream",
     "text": [
      "70 111 111 68 97 []\n"
     ]
    }
   ],
   "source": [
    "#将其转化为列表形式，仍然只能看作迭代器，只能执行一次迭代\n",
    "x456 = map(ord,\"FooDa\")\n",
    "for each in list(x456):\n",
    "    print(each,end=\" \")\n",
    "#当可迭代器迭代输出后，其内部元素已为空\n",
    "print(list(x456))"
   ]
  }
 ],
 "metadata": {
  "kernelspec": {
   "display_name": "Python 3 (ipykernel)",
   "language": "python",
   "name": "python3"
  },
  "language_info": {
   "codemirror_mode": {
    "name": "ipython",
    "version": 3
   },
   "file_extension": ".py",
   "mimetype": "text/x-python",
   "name": "python",
   "nbconvert_exporter": "python",
   "pygments_lexer": "ipython3",
   "version": "3.10.14"
  }
 },
 "nbformat": 4,
 "nbformat_minor": 5
}
