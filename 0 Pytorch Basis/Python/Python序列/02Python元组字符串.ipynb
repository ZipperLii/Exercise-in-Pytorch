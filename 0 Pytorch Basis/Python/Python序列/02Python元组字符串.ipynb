{
 "cells": [
  {
   "cell_type": "markdown",
   "id": "768fed88-29dc-4b47-879a-22c2d4a3de29",
   "metadata": {},
   "source": [
    "### 元组"
   ]
  },
  {
   "cell_type": "code",
   "execution_count": 2,
   "id": "67bc0999-af68-41d9-b50d-cf2658044884",
   "metadata": {},
   "outputs": [
    {
     "name": "stdout",
     "output_type": "stream",
     "text": [
      "(1, 2, 3, 4, 5, 6)\n",
      "((1, 2, 3), (4, 5, 6))\n"
     ]
    }
   ],
   "source": [
    "#创建元组使用圆括号\n",
    "#元组中的元素不能修改\n",
    "s = (1,2,3)\n",
    "t = (4,5,6)\n",
    "#元组加法\n",
    "print(s + t)\n",
    "#元组嵌套\n",
    "w = s,t\n",
    "print(w)"
   ]
  },
  {
   "cell_type": "code",
   "execution_count": 3,
   "id": "1fba1e03-45db-4b0f-82a8-c481f1ed80ec",
   "metadata": {},
   "outputs": [
    {
     "name": "stdout",
     "output_type": "stream",
     "text": [
      "1 2 3 \n",
      "4 5 6 \n"
     ]
    }
   ],
   "source": [
    "#元组支持迭代\n",
    "for i in w:\n",
    "    for each in i:\n",
    "        print(each,end=' ')\n",
    "    print()"
   ]
  },
  {
   "cell_type": "code",
   "execution_count": 43,
   "id": "b2d0c0bd-faa9-4e0f-80f6-f3d6918c155a",
   "metadata": {},
   "outputs": [
    {
     "name": "stdout",
     "output_type": "stream",
     "text": [
      "1 2 3 nice\n"
     ]
    }
   ],
   "source": [
    "#元组的打包\n",
    "tup = (1,2,3,\"nice\")\n",
    "#元组的解包(同样适用于列表)\n",
    "a,b,c,d = tup\n",
    "print(a,b,c,d)"
   ]
  }
 ],
 "metadata": {
  "kernelspec": {
   "display_name": "Python 3 (ipykernel)",
   "language": "python",
   "name": "python3"
  },
  "language_info": {
   "codemirror_mode": {
    "name": "ipython",
    "version": 3
   },
   "file_extension": ".py",
   "mimetype": "text/x-python",
   "name": "python",
   "nbconvert_exporter": "python",
   "pygments_lexer": "ipython3",
   "version": "3.10.14"
  }
 },
 "nbformat": 4,
 "nbformat_minor": 5
}
