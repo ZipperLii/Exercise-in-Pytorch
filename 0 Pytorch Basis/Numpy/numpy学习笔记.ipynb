{
 "cells": [
  {
   "cell_type": "markdown",
   "id": "f27486c9-d46c-4c2d-a930-838b8ee956fd",
   "metadata": {},
   "source": [
    "## 常用的numpy导入"
   ]
  },
  {
   "cell_type": "code",
   "execution_count": 8,
   "id": "683e7bea-939d-417f-8116-ece7db4642f1",
   "metadata": {
    "jp-MarkdownHeadingCollapsed": true
   },
   "outputs": [],
   "source": [
    "import numpy as np"
   ]
  },
  {
   "cell_type": "markdown",
   "id": "d983b188-220a-484a-916a-6cabdeeee45d",
   "metadata": {},
   "source": [
    "### 1 array函数"
   ]
  },
  {
   "cell_type": "markdown",
   "id": "9730408e-8596-40e8-8c69-561e7f45484d",
   "metadata": {
    "jp-MarkdownHeadingCollapsed": true
   },
   "source": [
    "#### ①np.array(list)  创建数组"
   ]
  },
  {
   "cell_type": "code",
   "execution_count": 9,
   "id": "a3084ced-5e7b-4ce6-b9b6-ff22d3f3185c",
   "metadata": {},
   "outputs": [],
   "source": [
    "#创建一维数组\n",
    "x = np.array([1,2,3,4,5,6,7])"
   ]
  },
  {
   "cell_type": "code",
   "execution_count": 10,
   "id": "778d2b19-fe47-444b-9fb3-2ae8f992b672",
   "metadata": {},
   "outputs": [
    {
     "data": {
      "text/plain": [
       "array([1, 2, 3, 4, 5, 6, 7])"
      ]
     },
     "execution_count": 10,
     "metadata": {},
     "output_type": "execute_result"
    }
   ],
   "source": [
    "x"
   ]
  },
  {
   "cell_type": "code",
   "execution_count": 11,
   "id": "6faaa693-3f2e-4b9e-a9c4-d018ac3cd07d",
   "metadata": {},
   "outputs": [],
   "source": [
    "#创建二维数组\n",
    "X = np.array([\n",
    "                [1,2,3,4],\n",
    "                [5,6,7,8],\n",
    "                [9,10,11,12]\n",
    "            ])"
   ]
  },
  {
   "cell_type": "code",
   "execution_count": 12,
   "id": "f4fbd964-257f-4e36-b056-f1ce6c502143",
   "metadata": {},
   "outputs": [
    {
     "data": {
      "text/plain": [
       "array([[ 1,  2,  3,  4],\n",
       "       [ 5,  6,  7,  8],\n",
       "       [ 9, 10, 11, 12]])"
      ]
     },
     "execution_count": 12,
     "metadata": {},
     "output_type": "execute_result"
    }
   ],
   "source": [
    "X"
   ]
  },
  {
   "cell_type": "markdown",
   "id": "d34c3976-0fdd-4cc5-a20a-5fd39766d193",
   "metadata": {
    "jp-MarkdownHeadingCollapsed": true
   },
   "source": [
    "#### ②探究数组的变量属性"
   ]
  },
  {
   "cell_type": "code",
   "execution_count": 13,
   "id": "538b367b-002a-4936-869d-d085ff832763",
   "metadata": {},
   "outputs": [
    {
     "data": {
      "text/plain": [
       "(7,)"
      ]
     },
     "execution_count": 13,
     "metadata": {},
     "output_type": "execute_result"
    }
   ],
   "source": [
    "#一维数组x的shape变量\n",
    "x.shape"
   ]
  },
  {
   "cell_type": "code",
   "execution_count": 14,
   "id": "0b8357f8-04f0-48ce-a575-3a6a5e51371c",
   "metadata": {},
   "outputs": [
    {
     "data": {
      "text/plain": [
       "(3, 4)"
      ]
     },
     "execution_count": 14,
     "metadata": {},
     "output_type": "execute_result"
    }
   ],
   "source": [
    "#二维数组X的shape变量\n",
    "X.shape"
   ]
  },
  {
   "cell_type": "code",
   "execution_count": 17,
   "id": "f88e118b-db90-4b21-8b3a-8c64d8f3257e",
   "metadata": {},
   "outputs": [
    {
     "data": {
      "text/plain": [
       "1"
      ]
     },
     "execution_count": 17,
     "metadata": {},
     "output_type": "execute_result"
    }
   ],
   "source": [
    "#一维数组维度\n",
    "x.ndim"
   ]
  },
  {
   "cell_type": "code",
   "execution_count": 18,
   "id": "973000a3-3c77-4618-be90-2ee214b2873d",
   "metadata": {},
   "outputs": [
    {
     "data": {
      "text/plain": [
       "2"
      ]
     },
     "execution_count": 18,
     "metadata": {},
     "output_type": "execute_result"
    }
   ],
   "source": [
    "#二维数组维度\n",
    "X.ndim"
   ]
  },
  {
   "cell_type": "code",
   "execution_count": 22,
   "id": "b98cd304-812e-4641-a4bb-ca8401691f6f",
   "metadata": {
    "scrolled": true
   },
   "outputs": [
    {
     "data": {
      "text/plain": [
       "dtype('int32')"
      ]
     },
     "execution_count": 22,
     "metadata": {},
     "output_type": "execute_result"
    }
   ],
   "source": [
    "#数据类型\n",
    "x.dtype"
   ]
  },
  {
   "cell_type": "code",
   "execution_count": 23,
   "id": "90662ae5-deae-4d54-86e3-1d14c6cf2f41",
   "metadata": {},
   "outputs": [
    {
     "data": {
      "text/plain": [
       "dtype('int32')"
      ]
     },
     "execution_count": 23,
     "metadata": {},
     "output_type": "execute_result"
    }
   ],
   "source": [
    "#数据类型\n",
    "X.dtype"
   ]
  },
  {
   "cell_type": "code",
   "execution_count": null,
   "id": "2efd1cfd-6a36-4b67-a6d1-120f1f48ce22",
   "metadata": {},
   "outputs": [],
   "source": []
  },
  {
   "cell_type": "code",
   "execution_count": null,
   "id": "10755aac-f4ac-4acc-934f-a301e1ee7a85",
   "metadata": {},
   "outputs": [],
   "source": []
  },
  {
   "cell_type": "code",
   "execution_count": null,
   "id": "f9ff99bd-8b5f-4353-be5c-0c6bf9d408f0",
   "metadata": {},
   "outputs": [],
   "source": []
  },
  {
   "cell_type": "markdown",
   "id": "19e17c58-2c18-4b33-8ef2-9a3a53caa5c4",
   "metadata": {
    "jp-MarkdownHeadingCollapsed": true
   },
   "source": [
    "### 2 arange函数"
   ]
  },
  {
   "cell_type": "markdown",
   "id": "9fb7d6b7-9eb5-4690-a634-8e7f0d96e2ff",
   "metadata": {},
   "source": [
    "#### ①np.arange(num)  创建从0到9的数组"
   ]
  },
  {
   "cell_type": "code",
   "execution_count": 25,
   "id": "080aaa31-d166-4bb3-bdb9-e433df9ed27a",
   "metadata": {},
   "outputs": [
    {
     "data": {
      "text/plain": [
       "array([0, 1, 2, 3, 4, 5, 6, 7, 8, 9])"
      ]
     },
     "execution_count": 25,
     "metadata": {},
     "output_type": "execute_result"
    }
   ],
   "source": [
    "np.arange(10)"
   ]
  },
  {
   "cell_type": "markdown",
   "id": "9c684875-4235-4884-8f1d-5f6ee44e4ea6",
   "metadata": {},
   "source": [
    "#### ②np.arange(start,end,step)  输入从start到end的指定数组，步长为step(步长默认值为1)"
   ]
  },
  {
   "cell_type": "code",
   "execution_count": 16,
   "id": "17003543-dd97-41d6-b222-a782a26ff8cf",
   "metadata": {},
   "outputs": [
    {
     "data": {
      "text/plain": [
       "array([1, 3, 5, 7, 9])"
      ]
     },
     "execution_count": 16,
     "metadata": {},
     "output_type": "execute_result"
    }
   ],
   "source": [
    "np.arange(1,10,2)"
   ]
  },
  {
   "cell_type": "markdown",
   "id": "71d5c794-9f96-436f-b434-ca26c0457a4d",
   "metadata": {},
   "source": [
    "### 3 ones函数"
   ]
  },
  {
   "cell_type": "markdown",
   "id": "af5d3a30-0f8c-46eb-accd-3bf70c1a2a4a",
   "metadata": {},
   "source": [
    "#### ①np.ones(num)  输入从0到指定数字num的整数数组"
   ]
  },
  {
   "cell_type": "code",
   "execution_count": null,
   "id": "626f6feb-82b8-4718-9673-c4267560f18d",
   "metadata": {},
   "outputs": [],
   "source": []
  }
 ],
 "metadata": {
  "kernelspec": {
   "display_name": "ZPtorch",
   "language": "python",
   "name": "zpytorch"
  },
  "language_info": {
   "codemirror_mode": {
    "name": "ipython",
    "version": 3
   },
   "file_extension": ".py",
   "mimetype": "text/x-python",
   "name": "python",
   "nbconvert_exporter": "python",
   "pygments_lexer": "ipython3",
   "version": "3.10.14"
  }
 },
 "nbformat": 4,
 "nbformat_minor": 5
}
